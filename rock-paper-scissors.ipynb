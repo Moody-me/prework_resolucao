{
 "cells": [
  {
   "cell_type": "markdown",
   "metadata": {},
   "source": [
    "# Rock Paper Scissors\n",
    "\n",
    "Let's play the famous game against our computer.\n",
    "\n",
    "https://en.wikipedia.org/wiki/Rock%E2%80%93paper%E2%80%93scissors\n",
    "\n",
    "The use of functions is recommended\n",
    "\n",
    "## Goals\n",
    "1. Use of loop\n",
    "2. Data capture by console\n",
    "3. Use if-elif-else\n",
    "4. Use of try-except\n",
    "5. Definition of functions. Modular programming\n",
    "6. Logical operators.\n",
    "7. Print\n",
    "8. Import modules"
   ]
  },
  {
   "cell_type": "code",
   "execution_count": 1,
   "metadata": {},
   "outputs": [],
   "source": [
    "# Import the choice function of the random module\n",
    "# https://stackoverflow.com/questions/306400/how-to-randomly-select-an-item-from-a-list\n",
    "import random\n",
    "\n",
    "# Assign to a list the 3 possible options: 'stone', 'paper' or 'scissors'.\n",
    "sps=['stone','paper','scissors']"
   ]
  },
  {
   "cell_type": "code",
   "execution_count": 2,
   "metadata": {},
   "outputs": [],
   "source": [
    "# Assign a variable to the maximum number of games: 1, 3, 5, etc ...\n",
    "max_games= random.randrange(1,10,2)"
   ]
  },
  {
   "cell_type": "code",
   "execution_count": 3,
   "metadata": {},
   "outputs": [],
   "source": [
    "# Assign a variable to the number of games a player must win to win.\n",
    "# Preferably the value will be based on the number of maximum games\n",
    "wins=(max_games//2)+1"
   ]
  },
  {
   "cell_type": "code",
   "execution_count": 4,
   "metadata": {},
   "outputs": [],
   "source": [
    "# Define a function that randomly returns one of the 3 options.\n",
    "# This will correspond to the play of the machine. Totally random.\n",
    "def play():\n",
    "    return random.choice(sps)"
   ]
  },
  {
   "cell_type": "code",
   "execution_count": 5,
   "metadata": {},
   "outputs": [],
   "source": [
    "# Define a function that asks your choice: 'stone', 'paper' or 'scissors'\n",
    "# you should only allow one of the 3 options. This is defensive programming.\n",
    "# If it is not stone, paper or scissors keep asking until it is.\n",
    "def choose():\n",
    "    choice=input('escolha stone, paper ou scissors: ')\n",
    "    while choice not in sps:\n",
    "        choice=input('escolha stone, paper ou scissors: ')\n",
    "    return choice    "
   ]
  },
  {
   "cell_type": "code",
   "execution_count": 6,
   "metadata": {},
   "outputs": [],
   "source": [
    "# Define a function that resolves a combat.\n",
    "# Returns 0 if there is a tie, 1 if the machine wins, 2 if the human player wins\n",
    "def combat():\n",
    "    global comp\n",
    "    global choice    \n",
    "    if comp=='stone':\n",
    "        return 1 if choice=='scissor' else 2\n",
    "    elif comp=='paper':\n",
    "        return 1 if choice=='stone' else 2\n",
    "    elif comp=='scissors':\n",
    "        return 1 if choice=='paper' else 2\n",
    "    else:\n",
    "        return 0"
   ]
  },
  {
   "cell_type": "code",
   "execution_count": 7,
   "metadata": {},
   "outputs": [],
   "source": [
    "# Define a function that shows the choice of each player and the state of the game\n",
    "# This function should be used every time accumulated points are updated\n",
    "def status():\n",
    "    global result\n",
    "    print('Computador:', comp,'X Você:',choice)\n",
    "    if result==0:\n",
    "        print('Empate!\\n')\n",
    "    elif result==1:\n",
    "        print('Você perdeu...\\n')\n",
    "    else:\n",
    "        print('Você venceu!\\n')\n"
   ]
  },
  {
   "cell_type": "code",
   "execution_count": 8,
   "metadata": {},
   "outputs": [],
   "source": [
    "# Create two variables that accumulate the wins of each participant\n",
    "win_comp=0\n",
    "win_choice=0"
   ]
  },
  {
   "cell_type": "code",
   "execution_count": 9,
   "metadata": {},
   "outputs": [
    {
     "name": "stdout",
     "output_type": "stream",
     "text": [
      "Quantidade de jogos:  7\n",
      "escolha stone, paper ou scissors: stone\n",
      "Computador: stone X Você: stone\n",
      "Você venceu!\n",
      "\n",
      "escolha stone, paper ou scissors: paper\n",
      "Computador: paper X Você: paper\n",
      "Você venceu!\n",
      "\n",
      "escolha stone, paper ou scissors: scissors\n",
      "Computador: paper X Você: scissors\n",
      "Você venceu!\n",
      "\n",
      "escolha stone, paper ou scissors: paper\n",
      "Computador: scissors X Você: paper\n",
      "Você perdeu...\n",
      "\n",
      "escolha stone, paper ou scissors: paper\n",
      "Computador: scissors X Você: paper\n",
      "Você perdeu...\n",
      "\n",
      "escolha stone, paper ou scissors: stone\n",
      "Computador: stone X Você: stone\n",
      "Você venceu!\n",
      "\n"
     ]
    }
   ],
   "source": [
    "# Create a loop that iterates while no player reaches the minimum of wins\n",
    "# necessary to win. Inside the loop solves the play of the\n",
    "# machine and ask the player's. Compare them and update the value of the variables\n",
    "# that accumulate the wins of each participant.\n",
    "print('Quantidade de jogos: ', max_games)\n",
    "\n",
    "while win_comp!=wins and win_choice!=wins:    \n",
    "    comp=play()\n",
    "    choice=choose()\n",
    "    result=combat()\n",
    "    status()\n",
    "    if result==1:\n",
    "        win_comp+=1\n",
    "    elif result==2:\n",
    "        win_choice+=1   \n",
    "    else:\n",
    "        result==0"
   ]
  },
  {
   "cell_type": "code",
   "execution_count": 10,
   "metadata": {},
   "outputs": [
    {
     "name": "stdout",
     "output_type": "stream",
     "text": [
      "VOCÊ VENCEU!\n"
     ]
    }
   ],
   "source": [
    "# Print by console the winner of the game based on who has more accumulated wins\n",
    "if win_comp>win_choice:\n",
    "    print('Vencedor: COMPUTADOR')\n",
    "else:\n",
    "    print('VOCÊ VENCEU!')"
   ]
  },
  {
   "cell_type": "markdown",
   "metadata": {},
   "source": [
    "# Bonus: Stone, paper, scissors, lizard, spock\n",
    "\n",
    "Now the improvement begins.\n",
    "\n",
    "![](images/rpsls.jpg)\n",
    "\n",
    "\n",
    "http://www.samkass.com/theories/RPSSL.html\n",
    "\n",
    "You are asked to impliment some improvements with respect to the simple previous game. In addition, the number of games (which must be ODD) will be requested per console until a valid number is entered.\n",
    "\n",
    "Improvements:\n",
    "* 5 options: stone, paper, scissors, lizard, spock\n",
    "* The number of games is requested per console\n",
    "Tip: Reuse code that you already use. If you have programmed intelligently, the bonus are simple modifications to the original game."
   ]
  },
  {
   "cell_type": "code",
   "execution_count": 11,
   "metadata": {},
   "outputs": [],
   "source": [
    "# Import the choice function of the random module\n",
    "from random import choice\n"
   ]
  },
  {
   "cell_type": "code",
   "execution_count": 12,
   "metadata": {},
   "outputs": [],
   "source": [
    "# Define a function that asks for an odd number on the keyboard, until it is not valid\n",
    "# will keep asking\n",
    "def odds():\n",
    "    ask=int(input('Digite um número ímpar: '))\n",
    "    while ask%2==0:\n",
    "        ask=int(input('Digite um número ímpar: '))\n",
    "    return ask"
   ]
  },
  {
   "cell_type": "code",
   "execution_count": 13,
   "metadata": {},
   "outputs": [],
   "source": [
    "# Assign a list of 5 possible options.\n",
    "options=['stone','paper','scissors','lizard','spock']\n"
   ]
  },
  {
   "cell_type": "code",
   "execution_count": 14,
   "metadata": {},
   "outputs": [
    {
     "name": "stdout",
     "output_type": "stream",
     "text": [
      "Digite um número ímpar: 9\n"
     ]
    }
   ],
   "source": [
    "# Assign a variable to the maximum number of games: 1, 3, 5, etc ...\n",
    "# This time the previously defined function is used\n",
    "maximo=odds()"
   ]
  },
  {
   "cell_type": "code",
   "execution_count": 15,
   "metadata": {},
   "outputs": [],
   "source": [
    "# Assign a variable to the number of games a player must win to win.\n",
    "# Preferably the value will be based on the number of maximum games\n",
    "win=(maximo//2)+1"
   ]
  },
  {
   "cell_type": "code",
   "execution_count": 16,
   "metadata": {},
   "outputs": [],
   "source": [
    "# Define a function that randomly returns one of the 5 options.\n",
    "# This will correspond to the play of the machine. Totally random.\n",
    "\n",
    "def play():\n",
    "    return random.choice(options)"
   ]
  },
  {
   "cell_type": "code",
   "execution_count": 17,
   "metadata": {},
   "outputs": [],
   "source": [
    "# Define a function that asks your choice between 5\n",
    "# you should only allow one of the 5 options. This is defensive programming.\n",
    "# If it is not valid, keep asking until it is valid.\n",
    "\n",
    "def choose():\n",
    "    choice=input('escolha stone, paper, scissors, spock or lizard: ')\n",
    "    while choice not in options:\n",
    "        choice=input('escolha stone, paper, scissors, spock or lizard: ')\n",
    "    return choice    "
   ]
  },
  {
   "cell_type": "code",
   "execution_count": 18,
   "metadata": {},
   "outputs": [],
   "source": [
    "# Define a function that resolves a combat.\n",
    "# Returns 0 if there is a tie, 1 if the machine wins, 2 if the human player wins\n",
    "# Now there are more options\n",
    "\n",
    "def combat():\n",
    "    global comp\n",
    "    global choice\n",
    "    if comp=='stone':\n",
    "        return 1 if choice=='lizard' or choice=='scissors' else 2\n",
    "    elif comp=='paper':\n",
    "        return 1 if choice=='stone' or choice=='spock' else 2\n",
    "    elif comp=='scissors':\n",
    "        return 1 if choice=='paper' or choice=='lizard' else 2\n",
    "    elif comp=='spock':\n",
    "        return 1 if choice=='rock' or choice=='scissors' else 2\n",
    "    elif comp=='lizard':\n",
    "        return 1 if choice=='paper' or choice=='spock' else 2\n",
    "    else:\n",
    "        return 0\n"
   ]
  },
  {
   "cell_type": "code",
   "execution_count": 19,
   "metadata": {},
   "outputs": [],
   "source": [
    "# Define a function that shows the choice of each player and the state of the game\n",
    "# This function should be used every time accumulated points are updated\n",
    "def status():\n",
    "    global result\n",
    "    print('Computador:', comp,'X Você:',choice)\n",
    "    if result==0:\n",
    "        print('Empate!\\n')\n",
    "    elif result==1:\n",
    "        print('Você perdeu...\\n')\n",
    "    else:\n",
    "        print('Você venceu!\\n')"
   ]
  },
  {
   "cell_type": "code",
   "execution_count": 20,
   "metadata": {},
   "outputs": [],
   "source": [
    "# Create two variables that accumulate the wins of each participant\n",
    "win_comp=0\n",
    "win_choice=0"
   ]
  },
  {
   "cell_type": "code",
   "execution_count": 21,
   "metadata": {},
   "outputs": [
    {
     "name": "stdout",
     "output_type": "stream",
     "text": [
      "Mínimo de vitórias:  5\n",
      "escolha stone, paper, scissors, spock or lizard: stone\n",
      "Computador: stone X Você: stone\n",
      "Você venceu!\n",
      "\n",
      "escolha stone, paper, scissors, spock or lizard: lizard\n",
      "Computador: paper X Você: lizard\n",
      "Você venceu!\n",
      "\n",
      "escolha stone, paper, scissors, spock or lizard: stone\n",
      "Computador: paper X Você: stone\n",
      "Você perdeu...\n",
      "\n",
      "escolha stone, paper, scissors, spock or lizard: spock\n",
      "Computador: spock X Você: spock\n",
      "Você venceu!\n",
      "\n",
      "escolha stone, paper, scissors, spock or lizard: paper\n",
      "Computador: stone X Você: paper\n",
      "Você venceu!\n",
      "\n",
      "escolha stone, paper, scissors, spock or lizard: spock\n",
      "Computador: paper X Você: spock\n",
      "Você perdeu...\n",
      "\n",
      "escolha stone, paper, scissors, spock or lizard: paper\n",
      "Computador: spock X Você: paper\n",
      "Você venceu!\n",
      "\n"
     ]
    }
   ],
   "source": [
    "# Create a loop that iterates while no player reaches the minimum of wins\n",
    "# necessary to win. Inside the loop solves the play of the\n",
    "# machine and ask the player's. Compare them and update the value of the variables\n",
    "# that accumulate the wins of each participant.\n",
    "print('Mínimo de vitórias: ', win)\n",
    "\n",
    "while win_comp!=win and win_choice!=win:    \n",
    "    comp=play()\n",
    "    choice=choose()\n",
    "    result=combat()\n",
    "    status()\n",
    "    if result==1:\n",
    "        win_comp+=1\n",
    "    elif result==0:\n",
    "        pass\n",
    "    else:\n",
    "        win_choice+=1   "
   ]
  },
  {
   "cell_type": "code",
   "execution_count": 22,
   "metadata": {},
   "outputs": [
    {
     "name": "stdout",
     "output_type": "stream",
     "text": [
      "VOCÊ VENCEU!\n"
     ]
    }
   ],
   "source": [
    "# Print by console the winner of the game based on who has more accumulated wins\n",
    "\n",
    "if win_comp>win_choice:\n",
    "    print('Vencedor: COMPUTADOR')\n",
    "else:\n",
    "    print('VOCÊ VENCEU!')"
   ]
  }
 ],
 "metadata": {
  "kernelspec": {
   "display_name": "Python 3",
   "language": "python",
   "name": "python3"
  },
  "language_info": {
   "codemirror_mode": {
    "name": "ipython",
    "version": 3
   },
   "file_extension": ".py",
   "mimetype": "text/x-python",
   "name": "python",
   "nbconvert_exporter": "python",
   "pygments_lexer": "ipython3",
   "version": "3.7.3"
  }
 },
 "nbformat": 4,
 "nbformat_minor": 2
}
